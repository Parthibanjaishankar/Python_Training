{
 "cells": [
  {
   "cell_type": "markdown",
   "metadata": {},
   "source": [
    "## Agenda \n",
    "\n",
    "1. What is Python \n",
    "2. Why we are using Python \n",
    "3. Where and all we can use Python \n",
    "4. Install Python \n",
    "5. Data types"
   ]
  },
  {
   "cell_type": "code",
   "execution_count": 8,
   "metadata": {},
   "outputs": [
    {
     "name": "stdout",
     "output_type": "stream",
     "text": [
      "Hellow world!\n",
      "Parthiban\n",
      "Pattabhi\n",
      "Manikaran\n",
      "Hellow world!\n",
      "BPMLinks\n"
     ]
    }
   ],
   "source": [
    "print('Hellow world!')\n",
    "print('Parthiban')\n",
    "print('Pattabhi')\n",
    "print('Manikaran')\n",
    "print('Hellow world!')\n",
    "print('BPMLinks')"
   ]
  },
  {
   "cell_type": "code",
   "execution_count": 13,
   "metadata": {},
   "outputs": [
    {
     "name": "stdout",
     "output_type": "stream",
     "text": [
      "<class 'str'>\n",
      "<class 'int'>\n",
      "<class 'int'>\n",
      "<class 'float'>\n"
     ]
    }
   ],
   "source": [
    "print(type('BPMLinks'))\n",
    "print(type(100000000))\n",
    "print(type(2586397451))\n",
    "print(type(7.28))"
   ]
  },
  {
   "cell_type": "code",
   "execution_count": 21,
   "metadata": {},
   "outputs": [
    {
     "name": "stdout",
     "output_type": "stream",
     "text": [
      "Parthiban\n"
     ]
    },
    {
     "ename": "TypeError",
     "evalue": "'float' object is not subscriptable",
     "output_type": "error",
     "traceback": [
      "\u001b[1;31m---------------------------------------------------------------------------\u001b[0m",
      "\u001b[1;31mTypeError\u001b[0m                                 Traceback (most recent call last)",
      "Cell \u001b[1;32mIn[21], line 13\u001b[0m\n\u001b[0;32m      7\u001b[0m \u001b[38;5;28mprint\u001b[39m(Name)\n\u001b[0;32m      9\u001b[0m \u001b[38;5;66;03m# Name[1]\u001b[39;00m\n\u001b[0;32m     10\u001b[0m \n\u001b[0;32m     11\u001b[0m \u001b[38;5;66;03m# Phone[1]\u001b[39;00m\n\u001b[1;32m---> 13\u001b[0m Price[\u001b[38;5;241m1\u001b[39m]\n",
      "\u001b[1;31mTypeError\u001b[0m: 'float' object is not subscriptable"
     ]
    }
   ],
   "source": [
    "Name = 'Parthiban'\n",
    "\n",
    "Phone = 8965847456\n",
    "\n",
    "Price = 73.58\n",
    "\n",
    "print(Name)\n",
    "\n",
    "# Name[1]\n",
    "\n",
    "# Phone[1]\n",
    "\n",
    "Price[1]\n",
    "\n"
   ]
  },
  {
   "cell_type": "code",
   "execution_count": 29,
   "metadata": {},
   "outputs": [
    {
     "name": "stdout",
     "output_type": "stream",
     "text": [
      "Data Engineer\n",
      "Dt nier\n",
      "l is worki\n",
      "a\n"
     ]
    }
   ],
   "source": [
    "Name = 'Raghul is working a Data Engineer'\n",
    "\n",
    "print(Name[20:])\n",
    "print(Name[20::2])\n",
    "\n",
    "print(Name[5:15])\n",
    "print(Name[1])\n",
    "\n",
    "## Start Value, End Value, Step (Jump)"
   ]
  },
  {
   "cell_type": "code",
   "execution_count": 25,
   "metadata": {},
   "outputs": [
    {
     "name": "stdout",
     "output_type": "stream",
     "text": [
      "D\n",
      "t\n",
      " \n",
      "n\n",
      "i\n",
      "e\n",
      "r\n"
     ]
    }
   ],
   "source": [
    "print(Name[20])\n",
    "print(Name[22])\n",
    "print(Name[24])\n",
    "print(Name[26])\n",
    "print(Name[28])\n",
    "print(Name[30])\n",
    "print(Name[32])\n"
   ]
  },
  {
   "cell_type": "code",
   "execution_count": 31,
   "metadata": {},
   "outputs": [
    {
     "name": "stdout",
     "output_type": "stream",
     "text": [
      "e\n"
     ]
    }
   ],
   "source": [
    "parag = 'Register to get everything you need to get started on your workstation including Cloud Notebooks, Navigator, AI Assistant, Learning and more'\n",
    "print(parag[-1])"
   ]
  },
  {
   "cell_type": "code",
   "execution_count": 39,
   "metadata": {},
   "outputs": [
    {
     "name": "stdout",
     "output_type": "stream",
     "text": [
      "ineer\n"
     ]
    }
   ],
   "source": [
    "Value = \"Data Engineer\"\n",
    "\n",
    "print(Value[-5:])\n",
    "\n",
    "Name = \"Parthiban Jaishankar\"\n",
    "\n",
    "\n",
    "# raknahsiaj nabithraP"
   ]
  },
  {
   "cell_type": "code",
   "execution_count": 41,
   "metadata": {},
   "outputs": [
    {
     "data": {
      "text/plain": [
       "'nabihtraP'"
      ]
     },
     "execution_count": 41,
     "metadata": {},
     "output_type": "execute_result"
    }
   ],
   "source": [
    "Name = 'Parthiban'\n",
    "\n",
    "Name[::-1]  "
   ]
  },
  {
   "cell_type": "code",
   "execution_count": 47,
   "metadata": {},
   "outputs": [
    {
     "data": {
      "text/plain": [
       "True"
      ]
     },
     "execution_count": 47,
     "metadata": {},
     "output_type": "execute_result"
    }
   ],
   "source": [
    "## <, >, <=, >=, !=, == -- Boolean \n",
    "\n",
    "# is 23 is greater than 20 \n",
    "\n",
    "23 > 20"
   ]
  },
  {
   "cell_type": "code",
   "execution_count": 48,
   "metadata": {},
   "outputs": [
    {
     "name": "stdout",
     "output_type": "stream",
     "text": [
      "<class 'bool'>\n"
     ]
    }
   ],
   "source": [
    "print(type(23 > 20))"
   ]
  },
  {
   "cell_type": "code",
   "execution_count": 59,
   "metadata": {},
   "outputs": [
    {
     "name": "stdout",
     "output_type": "stream",
     "text": [
      "<class 'str'>\n",
      "True\n",
      "<class 'bool'>\n"
     ]
    }
   ],
   "source": [
    "## Type casting\n",
    "\n",
    "Name = '12345678.098'\n",
    "Vale = \"1\"\n",
    "print(type(Name))\n",
    "\n",
    "Name_Int = bool(Vale)\n",
    "\n",
    "print(Name_Int)\n",
    "\n",
    "print(type(Name_Int))"
   ]
  },
  {
   "cell_type": "code",
   "execution_count": 60,
   "metadata": {},
   "outputs": [
    {
     "data": {
      "text/plain": [
       "True"
      ]
     },
     "execution_count": 60,
     "metadata": {},
     "output_type": "execute_result"
    }
   ],
   "source": [
    "bool('Parthiban')"
   ]
  },
  {
   "cell_type": "code",
   "execution_count": 61,
   "metadata": {},
   "outputs": [
    {
     "data": {
      "text/plain": [
       "False"
      ]
     },
     "execution_count": 61,
     "metadata": {},
     "output_type": "execute_result"
    }
   ],
   "source": [
    "bool(0)"
   ]
  },
  {
   "cell_type": "code",
   "execution_count": 62,
   "metadata": {},
   "outputs": [
    {
     "data": {
      "text/plain": [
       "False"
      ]
     },
     "execution_count": 62,
     "metadata": {},
     "output_type": "execute_result"
    }
   ],
   "source": [
    "bool('')"
   ]
  },
  {
   "cell_type": "code",
   "execution_count": 63,
   "metadata": {},
   "outputs": [
    {
     "data": {
      "text/plain": [
       "True"
      ]
     },
     "execution_count": 63,
     "metadata": {},
     "output_type": "execute_result"
    }
   ],
   "source": [
    "bool(' ')"
   ]
  },
  {
   "cell_type": "code",
   "execution_count": 64,
   "metadata": {},
   "outputs": [
    {
     "data": {
      "text/plain": [
       "True"
      ]
     },
     "execution_count": 64,
     "metadata": {},
     "output_type": "execute_result"
    }
   ],
   "source": [
    "bool(1)"
   ]
  },
  {
   "cell_type": "code",
   "execution_count": 67,
   "metadata": {},
   "outputs": [
    {
     "name": "stdout",
     "output_type": "stream",
     "text": [
      "Raghul\n",
      "Raghul\n",
      "RaghulMaduri\n"
     ]
    }
   ],
   "source": [
    "## How Iam going to get the input from the user \n",
    "\n",
    "Name = 'Raghul'\n",
    "\n",
    "print(Name)\n",
    "print(Name)\n",
    "\n",
    "Name = Name + 'Maduri'\n",
    "\n",
    "print(Name)"
   ]
  },
  {
   "cell_type": "code",
   "execution_count": 68,
   "metadata": {},
   "outputs": [
    {
     "name": "stdout",
     "output_type": "stream",
     "text": [
      "10\n"
     ]
    }
   ],
   "source": [
    "a = 10 \n",
    "print(a)"
   ]
  },
  {
   "cell_type": "code",
   "execution_count": 72,
   "metadata": {},
   "outputs": [
    {
     "name": "stdout",
     "output_type": "stream",
     "text": [
      "214\n",
      "224\n"
     ]
    }
   ],
   "source": [
    "a = a + 1\n",
    "\n",
    "print(a)\n",
    "\n",
    "a = a + 10\n",
    "\n",
    "print(a)\n",
    "\n"
   ]
  },
  {
   "cell_type": "code",
   "execution_count": 73,
   "metadata": {},
   "outputs": [
    {
     "name": "stdout",
     "output_type": "stream",
     "text": [
      "224\n"
     ]
    }
   ],
   "source": [
    "b = a \n",
    "print(b)"
   ]
  },
  {
   "cell_type": "code",
   "execution_count": 79,
   "metadata": {},
   "outputs": [
    {
     "name": "stdout",
     "output_type": "stream",
     "text": [
      "123.69\n",
      "<class 'float'>\n"
     ]
    }
   ],
   "source": [
    "Start = float(input(\"Enter a Value\"))\n",
    "\n",
    "print(Start)\n",
    "print(type(Start))"
   ]
  },
  {
   "cell_type": "code",
   "execution_count": null,
   "metadata": {},
   "outputs": [],
   "source": [
    "## First and Last Name \n",
    "\n",
    "# Parthiban \n",
    "# Jaishankar \n",
    "\n",
    "## Parthiban Jaishankar\n",
    "\n"
   ]
  },
  {
   "cell_type": "code",
   "execution_count": 81,
   "metadata": {},
   "outputs": [
    {
     "data": {
      "text/plain": [
       "3.1622776601683795"
      ]
     },
     "execution_count": 81,
     "metadata": {},
     "output_type": "execute_result"
    }
   ],
   "source": [
    "## Operator\n",
    "\n",
    "10 ** 0.5\n",
    "10 ** -1\n"
   ]
  },
  {
   "cell_type": "code",
   "execution_count": 82,
   "metadata": {},
   "outputs": [
    {
     "data": {
      "text/plain": [
       "32"
      ]
     },
     "execution_count": 82,
     "metadata": {},
     "output_type": "execute_result"
    }
   ],
   "source": [
    "2**5"
   ]
  },
  {
   "cell_type": "code",
   "execution_count": 84,
   "metadata": {},
   "outputs": [
    {
     "data": {
      "text/plain": [
       "False"
      ]
     },
     "execution_count": 84,
     "metadata": {},
     "output_type": "execute_result"
    }
   ],
   "source": [
    "## Comparsion operators -- True or false\n",
    "\n",
    "# < > <= >= ==, !=\n",
    "\n",
    "2 > 5"
   ]
  },
  {
   "cell_type": "code",
   "execution_count": 86,
   "metadata": {},
   "outputs": [
    {
     "name": "stdout",
     "output_type": "stream",
     "text": [
      "True\n",
      "False\n",
      "True\n",
      "False\n",
      "False\n",
      "True\n"
     ]
    }
   ],
   "source": [
    "a = 10\n",
    "b = 20 \n",
    "\n",
    "print(a < b)\n",
    "print(a > b)\n",
    "\n",
    "print(a <= b)\n",
    "print(a >= b)\n",
    "print(a == b)\n",
    "print(a != b)"
   ]
  },
  {
   "cell_type": "code",
   "execution_count": 87,
   "metadata": {},
   "outputs": [
    {
     "name": "stdout",
     "output_type": "stream",
     "text": [
      "10\n"
     ]
    }
   ],
   "source": [
    "## == and = \n",
    "\n",
    "# = Assigning\n",
    "\n",
    "a = 10\n",
    "\n",
    "print(a)"
   ]
  },
  {
   "cell_type": "code",
   "execution_count": 88,
   "metadata": {},
   "outputs": [
    {
     "data": {
      "text/plain": [
       "True"
      ]
     },
     "execution_count": 88,
     "metadata": {},
     "output_type": "execute_result"
    }
   ],
   "source": [
    "a == 10"
   ]
  },
  {
   "cell_type": "code",
   "execution_count": 91,
   "metadata": {},
   "outputs": [
    {
     "name": "stdout",
     "output_type": "stream",
     "text": [
      "You can vote and drink \n"
     ]
    }
   ],
   "source": [
    "## If Satement\n",
    "\n",
    "## < 18 -- I cant vote / I Cant drink\n",
    "\n",
    "## > 18 -- I Can vote < -- I cant drink \n",
    "\n",
    "## >18 and > 21 -- I can do both \n",
    "\n",
    "age = int(input())\n",
    "\n",
    "if age < 18:\n",
    "    print(\"You cant vote and you cant drink\")\n",
    "else:\n",
    "    if age >= 18 and age < 21:\n",
    "        print(\"You can vote but not able to drink\")\n",
    "    else:\n",
    "        if age >= 18 and age>= 21:\n",
    "            print(\"You can vote and drink \")\n",
    "        else:\n",
    "            print(\"Enter a valid age \")"
   ]
  },
  {
   "cell_type": "code",
   "execution_count": 94,
   "metadata": {},
   "outputs": [
    {
     "name": "stdout",
     "output_type": "stream",
     "text": [
      "You can vote and drink \n"
     ]
    }
   ],
   "source": [
    "# Elif\n",
    "\n",
    "age = int(input(\"Enter a age \"))\n",
    "if age < 18:\n",
    "    print(\"You cant vote and you cant drink\")\n",
    "elif age >= 18 and age < 21:\n",
    "    print(\"You can vote but not able to drink\")\n",
    "elif  age >= 18 and age>= 21:\n",
    "    print(\"You can vote and drink \")\n",
    "else:\n",
    "    print(\"Enter a valid age\")\n"
   ]
  },
  {
   "cell_type": "code",
   "execution_count": null,
   "metadata": {},
   "outputs": [],
   "source": [
    "## 8 - 12 Good morning\n",
    "## 12 - 15 Good after noon\n",
    "## 15 - 18 Good Evening \n",
    "## 18 > - Good night \n",
    "\n",
    "\n"
   ]
  },
  {
   "cell_type": "code",
   "execution_count": 111,
   "metadata": {},
   "outputs": [
    {
     "name": "stdout",
     "output_type": "stream",
     "text": [
      "Amount is processing\n"
     ]
    }
   ],
   "source": [
    "## 500 and 200 \n",
    "\n",
    "amount = int(input(\"Enter the amount\"))\n",
    "\n",
    "if (amount%500)%200 == 0:\n",
    "    print(\"Amount is processing\")\n",
    "elif amount%500 == 0:\n",
    "    print(\"Amount is processing\")\n",
    "elif amount%200 == 0:\n",
    "    print('Amount is processing')\n",
    "elif (amount - 500)%200 == 0:\n",
    "    print('Amount is processing')\n",
    "else:\n",
    "    print('Enter a valid amount')"
   ]
  },
  {
   "cell_type": "code",
   "execution_count": 107,
   "metadata": {},
   "outputs": [
    {
     "data": {
      "text/plain": [
       "0"
      ]
     },
     "execution_count": 107,
     "metadata": {},
     "output_type": "execute_result"
    }
   ],
   "source": [
    "(1200%500)%200"
   ]
  },
  {
   "cell_type": "code",
   "execution_count": 109,
   "metadata": {},
   "outputs": [
    {
     "data": {
      "text/plain": [
       "600"
      ]
     },
     "execution_count": 109,
     "metadata": {},
     "output_type": "execute_result"
    }
   ],
   "source": [
    "1100 - 500"
   ]
  },
  {
   "cell_type": "code",
   "execution_count": null,
   "metadata": {},
   "outputs": [],
   "source": []
  }
 ],
 "metadata": {
  "kernelspec": {
   "display_name": "base",
   "language": "python",
   "name": "python3"
  },
  "language_info": {
   "codemirror_mode": {
    "name": "ipython",
    "version": 3
   },
   "file_extension": ".py",
   "mimetype": "text/x-python",
   "name": "python",
   "nbconvert_exporter": "python",
   "pygments_lexer": "ipython3",
   "version": "3.12.4"
  }
 },
 "nbformat": 4,
 "nbformat_minor": 2
}
