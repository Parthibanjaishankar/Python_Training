{
 "cells": [
  {
   "cell_type": "code",
   "execution_count": null,
   "metadata": {},
   "outputs": [],
   "source": [
    "## Why we need loops\n",
    "\n",
    "a = 1\n",
    "print(a)\n",
    "\n",
    "a = a + 1\n",
    "print(a)\n",
    "\n",
    "a = a + 1\n",
    "print(a)\n",
    "\n",
    "a = a + 1\n",
    "print(a)\n",
    "\n",
    "a = a + 1\n",
    "print(a)"
   ]
  },
  {
   "cell_type": "code",
   "execution_count": null,
   "metadata": {},
   "outputs": [],
   "source": [
    "# ##\n",
    "\n",
    "# while condition:  ## this loop will be executed untill the contion becomes false\n",
    "#     code block\n",
    "\n",
    "a = 1\n",
    "\n",
    "while a <= 5 :\n",
    "    print(a)\n",
    "    a = a + 1\n",
    "    "
   ]
  },
  {
   "cell_type": "code",
   "execution_count": null,
   "metadata": {},
   "outputs": [],
   "source": [
    "## I want to print the even numbers between 1-10\n",
    "\n",
    "a = 1\n",
    "count = 0\n",
    "while a <= 10:\n",
    "    if a%2 == 0:\n",
    "        print(a)\n",
    "    count = count + 1    \n",
    "    a = a + 1\n",
    "print(\"This loop is executed for: \",count)"
   ]
  },
  {
   "cell_type": "code",
   "execution_count": null,
   "metadata": {},
   "outputs": [],
   "source": [
    "a = 1\n",
    "count = 0\n",
    "while a <= 10:\n",
    "    print(a)\n",
    "    a = a + 2\n",
    "    count = count + 1\n",
    "print(\"This loop is executed for: \",count)"
   ]
  },
  {
   "cell_type": "code",
   "execution_count": null,
   "metadata": {},
   "outputs": [],
   "source": [
    "## Get the Input table from the user \n",
    "## Need to get the Number of iterations\n",
    "\n",
    "a = int(input(\"Enter the table value:\"))\n",
    "b = int(input(\"Enter the number of iterations\"))\n",
    "start = 1\n",
    "\n",
    "while start <= b:\n",
    "    print(a,'*',start,\"=\",a * start)\n",
    "    start = start + 1 \n"
   ]
  },
  {
   "cell_type": "code",
   "execution_count": 28,
   "metadata": {},
   "outputs": [
    {
     "name": "stdout",
     "output_type": "stream",
     "text": [
      "3\n",
      "6\n",
      "9\n",
      "12\n",
      "15\n",
      "18\n",
      "21\n"
     ]
    }
   ],
   "source": [
    "# 2 2 4 6 8 10 12 14 16 18 20\n",
    "# 3 3 6 9 12 15 18 21 24 27 30 \n",
    "\n",
    "# Iterations = 2\n",
    "# 2 \n",
    "# 3 \n",
    "\n",
    "a = int(input('enter the table value'))\n",
    "b = int(input('enter number of iterations'))\n",
    "start = 1\n",
    "while start <= b:\n",
    "    print(a * start)\n",
    "    start = start + 1"
   ]
  },
  {
   "cell_type": "code",
   "execution_count": 34,
   "metadata": {},
   "outputs": [
    {
     "name": "stdout",
     "output_type": "stream",
     "text": [
      "1 2 3 4 5 6 7 8 9 10 "
     ]
    }
   ],
   "source": [
    "a = 1 \n",
    "\n",
    "while a <= 10:\n",
    "    print(a, end=' ')\n",
    "    a = a + 1 "
   ]
  },
  {
   "cell_type": "code",
   "execution_count": 37,
   "metadata": {},
   "outputs": [
    {
     "name": "stdout",
     "output_type": "stream",
     "text": [
      "Enter the value value: \n",
      "5 10 15 20 25 30 35 40 45 50 \n",
      "Enter the value value: \n",
      "6 12 18 24 30 36 42 48 54 60 \n",
      "Enter the value value: \n",
      "7 14 21 28 35 42 49 56 63 70 \n"
     ]
    }
   ],
   "source": [
    "Input_Iteration = int(input(\"Enter the number of Iterations\"))\n",
    "\n",
    "\n",
    "while Input_Iteration > 0:\n",
    "    print(\"Enter the value value: \")\n",
    "    Table_value = int(input(\"Enter the Table Value\"))\n",
    "    start = 1\n",
    "    while start <= 10:\n",
    "        print(Table_value * start,end = ' ')\n",
    "        start = start + 1\n",
    "    print()\n",
    "\n",
    "    Input_Iteration = Input_Iteration - 1\n"
   ]
  },
  {
   "cell_type": "code",
   "execution_count": null,
   "metadata": {},
   "outputs": [],
   "source": []
  }
 ],
 "metadata": {
  "kernelspec": {
   "display_name": "base",
   "language": "python",
   "name": "python3"
  },
  "language_info": {
   "codemirror_mode": {
    "name": "ipython",
    "version": 3
   },
   "file_extension": ".py",
   "mimetype": "text/x-python",
   "name": "python",
   "nbconvert_exporter": "python",
   "pygments_lexer": "ipython3",
   "version": "3.12.4"
  }
 },
 "nbformat": 4,
 "nbformat_minor": 2
}
