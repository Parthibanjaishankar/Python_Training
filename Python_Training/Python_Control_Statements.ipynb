{
 "cells": [
  {
   "cell_type": "code",
   "execution_count": 1,
   "metadata": {},
   "outputs": [],
   "source": [
    "## Agenda \n",
    "## Flow Chart\n",
    "## If else Block "
   ]
  },
  {
   "cell_type": "code",
   "execution_count": 5,
   "metadata": {},
   "outputs": [
    {
     "name": "stdout",
     "output_type": "stream",
     "text": [
      "Current year is 2024\n",
      "Next year is 2025\n"
     ]
    }
   ],
   "source": [
    "## If else block\n",
    "\n",
    "## If the year is 2024, print the year is 2024, else print the year is not 2024\n",
    "\n",
    "year = 2024 \n",
    "if year == 2024:\n",
    "    print(\"Current year is 2024\")\n",
    "    print(\"Next year is\",year + 1)\n",
    "else: \n",
    "    print(\"The year is not 2024\")"
   ]
  },
  {
   "cell_type": "code",
   "execution_count": 6,
   "metadata": {},
   "outputs": [
    {
     "name": "stdout",
     "output_type": "stream",
     "text": [
      "1\n",
      "2\n"
     ]
    }
   ],
   "source": [
    "if 56 > 50:\n",
    "    print(\"1\")\n",
    "    print(\"2\")"
   ]
  },
  {
   "cell_type": "code",
   "execution_count": 7,
   "metadata": {},
   "outputs": [
    {
     "name": "stdout",
     "output_type": "stream",
     "text": [
      "1\n",
      "2\n",
      "3\n"
     ]
    }
   ],
   "source": [
    "if 56 > 50:\n",
    "    print(1)\n",
    "    print(2)\n",
    "print(3)"
   ]
  },
  {
   "cell_type": "code",
   "execution_count": 13,
   "metadata": {},
   "outputs": [
    {
     "name": "stdout",
     "output_type": "stream",
     "text": [
      "\n"
     ]
    }
   ],
   "source": [
    "## Syntax \n",
    "\n",
    "if True:\n",
    "    ## Run this statement \n",
    "    print()\n",
    "else:\n",
    "    ## Run this statement \n",
    "    print()"
   ]
  },
  {
   "cell_type": "code",
   "execution_count": 15,
   "metadata": {},
   "outputs": [
    {
     "name": "stdout",
     "output_type": "stream",
     "text": [
      "Massive Number\n",
      "Code has been completed\n"
     ]
    }
   ],
   "source": [
    "a = 2\n",
    "result = a ** 5 \n",
    "if result > 25:\n",
    "    print(\"Massive Number\")\n",
    "else:\n",
    "    print(\"Small Number\")\n",
    "print(\"Code has been completed\")"
   ]
  },
  {
   "cell_type": "code",
   "execution_count": 20,
   "metadata": {},
   "outputs": [
    {
     "name": "stdout",
     "output_type": "stream",
     "text": [
      "Password Incorrect, Enter the Correct Password\n"
     ]
    }
   ],
   "source": [
    "## Login using If and Else \n",
    "\n",
    "Saved_Pwd = 'Parthiban@345^'\n",
    "Input_Pwd = input()\n",
    "\n",
    "if Saved_Pwd == Input_Pwd: \n",
    "    print(\"Login Successfull\")\n",
    "else: \n",
    "    print(\"Password Incorrect, Enter the Correct Password\")"
   ]
  },
  {
   "cell_type": "markdown",
   "metadata": {},
   "source": [
    "Question : ATM Dispatch \n",
    "Only rs 500 and Rs 200 are available \n",
    "Take an amount as the Input from the User\n",
    "If amount dischargeble, print(\"Discharging Cash\")\n",
    "else, print(\"Unable to Withdraw the cash\")"
   ]
  },
  {
   "cell_type": "code",
   "execution_count": 24,
   "metadata": {},
   "outputs": [
    {
     "name": "stdout",
     "output_type": "stream",
     "text": [
      "Unable to process your amount, Enter the valid amount\n"
     ]
    }
   ],
   "source": [
    "amount = int(input(\"Enter the amount\"))\n",
    "\n",
    "if amount % 500 == 0 or amount % 200 == 0:\n",
    "    print(\"Amount is Processing\")\n",
    "else:\n",
    "    print(\"Unable to process your amount, Enter the valid amount\")"
   ]
  },
  {
   "cell_type": "code",
   "execution_count": 26,
   "metadata": {},
   "outputs": [
    {
     "name": "stdout",
     "output_type": "stream",
     "text": [
      "200\n",
      "0\n",
      "Amount Processing\n"
     ]
    }
   ],
   "source": [
    "amount = int(input())\n",
    "\n",
    "print(amount%500)\n",
    "print((amount%500)%200)\n",
    "\n",
    "if ((amount%500)%200) == 0:\n",
    "    print(\"Amount Processing\")\n",
    "else:\n",
    "    Print(\"Unable to process your amount, enter a valid amount\")"
   ]
  },
  {
   "cell_type": "code",
   "execution_count": 40,
   "metadata": {},
   "outputs": [
    {
     "name": "stdout",
     "output_type": "stream",
     "text": [
      "600\n",
      "processing the amount\n"
     ]
    }
   ],
   "source": [
    "amount = 1100\n",
    "\n",
    "if amount > 200 and (amount%500)%200 != 0:\n",
    "    amount = amount - 500\n",
    "    print(amount)\n",
    "    if amount%200 == 0 or (amount%500)%200 == 0:\n",
    "        print(\"processing the amount\")\n",
    "    elif amount%500 == 0:\n",
    "        print(\"processing the aount\")\n",
    "else:\n",
    "    if (amount%500)%200==0:\n",
    "        print(\"Processing the amount\")\n",
    "    else:\n",
    "        print(\"Uanble to process the amount\")\n",
    "    "
   ]
  },
  {
   "cell_type": "code",
   "execution_count": 42,
   "metadata": {},
   "outputs": [
    {
     "name": "stdout",
     "output_type": "stream",
     "text": [
      "Good Afternooon\n"
     ]
    }
   ],
   "source": [
    "time = int(input(\"Enter the Current Time\"))\n",
    "\n",
    "if time > 1 and time <= 12:\n",
    "    print(\"Good Morning\")\n",
    "elif time > 12 and time <=17:\n",
    "    print(\"Good Afternooon\")\n",
    "elif time > 17 and time <= 20:\n",
    "    print(\"Good Evening\")\n",
    "elif time >20:\n",
    "    print(\"Good Night\")\n",
    "else: \n",
    "    print(\"Enter the valid number\")"
   ]
  },
  {
   "cell_type": "code",
   "execution_count": 43,
   "metadata": {},
   "outputs": [
    {
     "name": "stdout",
     "output_type": "stream",
     "text": [
      "1\n"
     ]
    }
   ],
   "source": [
    "a = 544251954\n",
    "b = 562258586\n",
    "\n",
    "if a > b:\n",
    "    print(-1)\n",
    "else:\n",
    "    print(1)"
   ]
  },
  {
   "cell_type": "code",
   "execution_count": 61,
   "metadata": {},
   "outputs": [
    {
     "name": "stdout",
     "output_type": "stream",
     "text": [
      "Please collect the amount\n",
      "Processing...........\n",
      "Please collect: 1900\n",
      "Your balance amount is : 498100\n"
     ]
    }
   ],
   "source": [
    "amount = int(input())\n",
    "balance = 500000\n",
    "\n",
    "if amount > balance  or amount >= 10000:\n",
    "    print(\"Enter a valid amount\")\n",
    "else:\n",
    "    if (amount%500)%200 == 0 or amount%500 == 0 or amount%200 == 0: \n",
    "        balance -= amount\n",
    "        print(\"Please collect the amount\")\n",
    "        print(\"Processing...........\")\n",
    "        print(\"Please collect:\", amount)\n",
    "        print(\"Your balance amount is :\",balance)\n",
    "    else:\n",
    "        print(\"Unable to withdraw the amount\")"
   ]
  },
  {
   "cell_type": "code",
   "execution_count": null,
   "metadata": {},
   "outputs": [],
   "source": []
  },
  {
   "cell_type": "code",
   "execution_count": null,
   "metadata": {},
   "outputs": [],
   "source": []
  }
 ],
 "metadata": {
  "kernelspec": {
   "display_name": "base",
   "language": "python",
   "name": "python3"
  },
  "language_info": {
   "codemirror_mode": {
    "name": "ipython",
    "version": 3
   },
   "file_extension": ".py",
   "mimetype": "text/x-python",
   "name": "python",
   "nbconvert_exporter": "python",
   "pygments_lexer": "ipython3",
   "version": "3.12.4"
  }
 },
 "nbformat": 4,
 "nbformat_minor": 2
}
