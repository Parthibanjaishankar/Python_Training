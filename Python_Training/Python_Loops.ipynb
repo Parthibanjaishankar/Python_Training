{
 "cells": [
  {
   "cell_type": "code",
   "execution_count": 1,
   "metadata": {},
   "outputs": [
    {
     "name": "stdout",
     "output_type": "stream",
     "text": [
      "1\n",
      "2\n",
      "3\n",
      "4\n",
      "5\n"
     ]
    }
   ],
   "source": [
    "## Printing the Sequence of number 1,2,3,4,5\n",
    "\n",
    "num = 1\n",
    "print(num)\n",
    "\n",
    "num = num + 1\n",
    "print(num)\n",
    "\n",
    "num = num + 1\n",
    "print(num)\n",
    "\n",
    "num = num + 1\n",
    "print(num)\n",
    "\n",
    "num = num + 1\n",
    "print(num)"
   ]
  },
  {
   "cell_type": "code",
   "execution_count": 3,
   "metadata": {},
   "outputs": [
    {
     "name": "stdout",
     "output_type": "stream",
     "text": [
      "1\n",
      "2\n",
      "3\n",
      "4\n",
      "5\n"
     ]
    }
   ],
   "source": [
    "## Using While loop \n",
    "\n",
    "num = 1\n",
    "\n",
    "while (num <= 5):\n",
    "    print(num)\n",
    "    num = num + 1"
   ]
  },
  {
   "cell_type": "code",
   "execution_count": 3,
   "metadata": {},
   "outputs": [
    {
     "name": "stdout",
     "output_type": "stream",
     "text": [
      "1\n",
      "2\n",
      "3\n",
      "4\n",
      "5\n"
     ]
    }
   ],
   "source": [
    "num = 5\n",
    "current = 1\n",
    "\n",
    "while(current <= num):\n",
    "    print(current)\n",
    "    current = current + 1"
   ]
  },
  {
   "cell_type": "code",
   "execution_count": 4,
   "metadata": {},
   "outputs": [
    {
     "name": "stdout",
     "output_type": "stream",
     "text": [
      "1\n",
      "2\n",
      "3\n",
      "4\n",
      "5\n",
      "6\n",
      "7\n",
      "8\n",
      "9\n",
      "10\n",
      "11\n",
      "12\n"
     ]
    }
   ],
   "source": [
    "## Get the Input from the user and print the values \n",
    "\n",
    "num = int(input())\n",
    "current_value = 1\n",
    "\n",
    "while (current_value <= num):\n",
    "    print(current_value)\n",
    "    current_value = current_value + 1"
   ]
  },
  {
   "cell_type": "code",
   "execution_count": 10,
   "metadata": {},
   "outputs": [
    {
     "name": "stdout",
     "output_type": "stream",
     "text": [
      "1\n",
      "2\n",
      "3\n",
      "4\n",
      "5\n"
     ]
    }
   ],
   "source": [
    "## Get the Start value end value \n",
    "\n",
    "start = int(input())\n",
    "end = int(input())\n",
    "\n",
    "while(start <= end):\n",
    "    print(start)\n",
    "    start = start + 1\n",
    "    "
   ]
  },
  {
   "cell_type": "code",
   "execution_count": 13,
   "metadata": {},
   "outputs": [
    {
     "name": "stdout",
     "output_type": "stream",
     "text": [
      "0\n",
      "1\n",
      "2\n",
      "3\n",
      "4\n",
      "5\n",
      "6\n",
      "While loop has been executed for: 7\n"
     ]
    }
   ],
   "source": [
    "## Identify how many times the while query has been executed \n",
    "\n",
    "start = int(input())\n",
    "end = int(input())\n",
    "count = 0 \n",
    "\n",
    "while(start <= end):\n",
    "    count = count + 1\n",
    "    print(start)\n",
    "    start = start + 1\n",
    "\n",
    "print(\"While loop has been executed for:\",count) \n",
    "\n"
   ]
  },
  {
   "cell_type": "code",
   "execution_count": 19,
   "metadata": {},
   "outputs": [
    {
     "name": "stdout",
     "output_type": "stream",
     "text": [
      "1\n",
      "2\n",
      "Fizz\n",
      "4\n",
      "Buzz\n",
      "Fizz\n",
      "7\n",
      "8\n",
      "Fizz\n",
      "Buzz\n",
      "11\n",
      "Fizz\n",
      "13\n",
      "14\n",
      "FizzBuzz\n",
      "16\n",
      "17\n",
      "Fizz\n",
      "19\n",
      "Buzz\n",
      "Fizz\n",
      "22\n",
      "23\n",
      "Fizz\n",
      "Buzz\n",
      "26\n",
      "Fizz\n",
      "28\n",
      "29\n",
      "FizzBuzz\n",
      "31\n",
      "32\n",
      "Fizz\n",
      "34\n",
      "Buzz\n",
      "Fizz\n",
      "37\n",
      "38\n",
      "Fizz\n",
      "Buzz\n",
      "41\n",
      "Fizz\n",
      "43\n",
      "44\n",
      "FizzBuzz\n",
      "46\n",
      "47\n",
      "Fizz\n",
      "49\n",
      "Buzz\n",
      "Fizz\n",
      "52\n",
      "53\n",
      "Fizz\n",
      "Buzz\n",
      "56\n",
      "Fizz\n",
      "58\n",
      "59\n",
      "FizzBuzz\n",
      "61\n",
      "62\n",
      "Fizz\n",
      "64\n",
      "Buzz\n",
      "Fizz\n",
      "67\n",
      "68\n",
      "Fizz\n",
      "Buzz\n",
      "71\n",
      "Fizz\n",
      "73\n",
      "74\n",
      "FizzBuzz\n",
      "76\n",
      "77\n",
      "Fizz\n",
      "79\n",
      "Buzz\n",
      "Fizz\n",
      "82\n",
      "83\n",
      "Fizz\n",
      "Buzz\n",
      "86\n",
      "Fizz\n",
      "88\n",
      "89\n",
      "FizzBuzz\n",
      "91\n",
      "92\n",
      "Fizz\n",
      "94\n",
      "Buzz\n",
      "Fizz\n",
      "97\n",
      "98\n",
      "Fizz\n",
      "Buzz\n"
     ]
    }
   ],
   "source": [
    "x = 1\n",
    "while x <= 100:\n",
    "    if x % 3 == 0 and x % 5 == 0:\n",
    "        print(\"FizzBuzz\")\n",
    "    elif x % 3 == 0:\n",
    "        print(\"Fizz\")\n",
    "    elif x % 5 == 0:\n",
    "        print(\"Buzz\")\n",
    "    else:\n",
    "        print(x)\n",
    "    x += 1"
   ]
  },
  {
   "cell_type": "code",
   "execution_count": 23,
   "metadata": {},
   "outputs": [
    {
     "name": "stdout",
     "output_type": "stream",
     "text": [
      "1 2 3 4 5 6 7 8 9 10 "
     ]
    }
   ],
   "source": [
    "## Print the value in the same/ single line\n",
    "\n",
    "num = 1 \n",
    "while num <= 10:\n",
    "    print(num,end = ' ')\n",
    "    num = num + 1"
   ]
  },
  {
   "cell_type": "code",
   "execution_count": 24,
   "metadata": {},
   "outputs": [
    {
     "name": "stdout",
     "output_type": "stream",
     "text": [
      "Hi-This-Is-Parthiban\n"
     ]
    }
   ],
   "source": [
    "print(\"Hi\",\"This\",\"Is\",\"Parthiban\",sep = '-')"
   ]
  },
  {
   "cell_type": "code",
   "execution_count": 4,
   "metadata": {},
   "outputs": [
    {
     "name": "stdout",
     "output_type": "stream",
     "text": [
      "3 6 9 12 15 18 21 24 27 30 \n",
      "4 8 12 16 20 24 28 32 36 40 \n"
     ]
    }
   ],
   "source": [
    "No_of_tables = int(input(\"Enter How Many tables you need to Generate\"))\n",
    "num = 1\n",
    "\n",
    "while (num <= No_of_tables):\n",
    "    Table_Value = int(input(\"Enter the table you need to Generate\"))\n",
    "    Mul_Value = int(input(\"Enter how many multliplication you need\"))\n",
    "    start = 1\n",
    "    while start <= Mul_Value:\n",
    "        print(start * Table_Value, end = ' ')\n",
    "        start = start + 1\n",
    "    start = 0\n",
    "    print()\n",
    "    num = num + 1\n",
    "\n",
    "num = 1"
   ]
  },
  {
   "cell_type": "code",
   "execution_count": 5,
   "metadata": {},
   "outputs": [
    {
     "name": "stdout",
     "output_type": "stream",
     "text": [
      "1\n",
      "2\n",
      "3\n",
      "4\n",
      "5\n"
     ]
    }
   ],
   "source": [
    "## While loop - Based on the condition the loop will be execute until the condition become false\n",
    "## List = [1,2,3,4,5] ## Combination of multiple values \n",
    "## Iterate the value in the list , We can do that with the while loop for this kind of this we have for loop \n",
    "\n",
    "a = [1,2,3,4,5]\n",
    "\n",
    "for i in a:\n",
    "    print(i)\n",
    "\n",
    "# Here we are not using any condtion we are passing the list to iterate the loop\n",
    "# i is just a variable name we can keep anything \n",
    "\n"
   ]
  },
  {
   "cell_type": "code",
   "execution_count": 10,
   "metadata": {},
   "outputs": [
    {
     "data": {
      "text/plain": [
       "[0, 1, 2, 3, 4, 5, 6, 7, 8, 9]"
      ]
     },
     "execution_count": 10,
     "metadata": {},
     "output_type": "execute_result"
    }
   ],
   "source": [
    "## range()\n",
    "# [3,8] - 3,4,5,6,7,8 ## Include\n",
    "# (3,8) - 4,5,6,7 ## Exclude\n",
    "# [3,8) - 3,4,5,6,7 \n",
    "# Python follow this [3,8) range() - (0,..............,n-1)\n",
    "# range(3,8) - 3,4,5,6,7\n",
    "# range(10,15) - 10,11,12,13,14\n",
    "\n",
    "range(2,8) ## It will not print\n",
    "\n",
    "list(range(2,8)) ## Generating the list \n",
    "\n",
    "list(range(10)) ## Generating the value 0 - 9\n"
   ]
  },
  {
   "cell_type": "code",
   "execution_count": 11,
   "metadata": {},
   "outputs": [
    {
     "name": "stdout",
     "output_type": "stream",
     "text": [
      "1\n",
      "2\n",
      "3\n",
      "4\n",
      "5\n",
      "6\n"
     ]
    }
   ],
   "source": [
    "for i in [1,2,3,4,5,6]:\n",
    "    print(i)"
   ]
  },
  {
   "cell_type": "code",
   "execution_count": 13,
   "metadata": {},
   "outputs": [
    {
     "name": "stdout",
     "output_type": "stream",
     "text": [
      "1\n",
      "2\n",
      "3\n",
      "4\n",
      "5\n",
      "6\n"
     ]
    }
   ],
   "source": [
    "for i in range(1,7):\n",
    "    print(i)"
   ]
  },
  {
   "cell_type": "code",
   "execution_count": 21,
   "metadata": {},
   "outputs": [
    {
     "name": "stdout",
     "output_type": "stream",
     "text": [
      "0\n",
      "2\n",
      "4\n",
      "6\n",
      "8\n",
      "5\n"
     ]
    }
   ],
   "source": [
    "## Always start from lowe number to bigger number \n",
    "count = 0\n",
    "for i in range(0,10,2):\n",
    "    count = count + 1\n",
    "    print(i)\n",
    "\n",
    "print(count)"
   ]
  },
  {
   "cell_type": "code",
   "execution_count": 24,
   "metadata": {},
   "outputs": [
    {
     "name": "stdout",
     "output_type": "stream",
     "text": [
      "-1\n",
      "-2\n",
      "-3\n",
      "-4\n",
      "-5\n",
      "-6\n",
      "-7\n",
      "-8\n",
      "-9\n",
      "-10\n"
     ]
    }
   ],
   "source": [
    "# range(start, end, step(jump))\n",
    "\n",
    "\n",
    "for i in range(-1,-11,-1):\n",
    "    print(i)"
   ]
  },
  {
   "cell_type": "code",
   "execution_count": 25,
   "metadata": {},
   "outputs": [
    {
     "name": "stdout",
     "output_type": "stream",
     "text": [
      "5\n",
      "4\n",
      "3\n",
      "2\n",
      "1\n"
     ]
    }
   ],
   "source": [
    "n = int(input())\n",
    "for i in range(n,0,-1):\n",
    "    print(i)"
   ]
  },
  {
   "cell_type": "code",
   "execution_count": 27,
   "metadata": {},
   "outputs": [
    {
     "name": "stdout",
     "output_type": "stream",
     "text": [
      "5\n",
      "4\n",
      "3\n",
      "2\n",
      "1\n"
     ]
    }
   ],
   "source": [
    "n = int(input())\n",
    "for i in range(-n,0):\n",
    "    print(-i)"
   ]
  },
  {
   "cell_type": "code",
   "execution_count": null,
   "metadata": {},
   "outputs": [],
   "source": []
  }
 ],
 "metadata": {
  "kernelspec": {
   "display_name": "base",
   "language": "python",
   "name": "python3"
  },
  "language_info": {
   "codemirror_mode": {
    "name": "ipython",
    "version": 3
   },
   "file_extension": ".py",
   "mimetype": "text/x-python",
   "name": "python",
   "nbconvert_exporter": "python",
   "pygments_lexer": "ipython3",
   "version": "3.12.4"
  }
 },
 "nbformat": 4,
 "nbformat_minor": 2
}
